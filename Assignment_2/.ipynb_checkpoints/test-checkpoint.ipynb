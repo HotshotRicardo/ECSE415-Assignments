{
 "cells": [
  {
   "cell_type": "code",
   "execution_count": 2,
   "metadata": {},
   "outputs": [],
   "source": [
    "import cv2\n",
    "import numpy as np\n",
    "from matplotlib import pyplot as plt"
   ]
  },
  {
   "cell_type": "code",
   "execution_count": null,
   "metadata": {},
   "outputs": [],
   "source": [
    "# Read images to stitch\n",
    "imgl = cv2.imread('stitching_images/1HILL.JPG')\n",
    "imgr = cv2.imread('stitching_images/2HILL.JPG')\n",
    "\n",
    "imgl = cv2.cvtColor(imgl, cv2.COLOR_BGR2RGB)\n",
    "imgr = cv2.cvtColor(imgr, cv2.COLOR_BGR2RGB)\n",
    "\n",
    "# Compute keypoints and descriptors\n",
    "sift_obj = cv2.xfeatures2d.SIFT_create()\n",
    "keypoints_l, descriptors_l = sift_obj.detectAndCompute(imgl, None)\n",
    "keypoints_r, descriptors_r = sift_obj.detectAndCompute(imgr, None)\n",
    "\n",
    "# create BFMatcher object\n",
    "bf = cv2.BFMatcher()#cv2.NORM_HAMMING, crossCheck=True)\n",
    "\n",
    "# Match descriptors.\n",
    "# Modify code after this line\n",
    "matches = bf.match(descriptors_r,descriptors_l)\n",
    "\n",
    "# Sort them in the order of their distance.\n",
    "matches = sorted(matches, key = lambda x:x.distance)\n",
    "\n",
    "# Draw keypoints \n",
    "imgmatch = cv2.drawMatches(imgr,keypoints_r,imgl,keypoints_l, matches[:10], imgr, flags=2)\n",
    "\n",
    "# Arrange matching keypoints in two separate lists\n",
    "GoodMatches = []\n",
    "for i, m in enumerate(matches):\n",
    "    GoodMatches.append((m.trainIdx, m.queryIdx))\n",
    "\n",
    "mpr = np.float32([keypoints_r[i].pt for (__, i) in GoodMatches]) #matching keypoints for right \n",
    "mpl = np.float32([keypoints_l[i].pt for (i, __) in GoodMatches]) #matching keypoints for left\n",
    "\n",
    "# find homography and wrap image accordingly\n",
    "H, __ = cv2.findHomography(mpr, mpl, cv2.RANSAC, 4)\n",
    "wimg = cv2.warpPerspective(imgr, H, (imgr.shape[1]+imgl.shape[1],imgr.shape[0]))\n",
    "wimg[:,:imgl.shape[1],:] = imgl\n",
    "\n",
    "plt.figure(figsize=(20,20))\n",
    "plt.subplot(211)\n",
    "plt.imshow(imgmatch)\n",
    "plt.title(\"Matched Keypoints\"), plt.xticks([]), plt.yticks([])\n",
    "plt.subplot(212)\n",
    "plt.imshow(wimg)\n",
    "plt.title(\"Panoramic image\"), plt.xticks([]), plt.yticks([])\n",
    "plt.show()"
   ]
  }
 ],
 "metadata": {
  "kernelspec": {
   "display_name": "Python 3",
   "language": "python",
   "name": "python3"
  },
  "language_info": {
   "codemirror_mode": {
    "name": "ipython",
    "version": 3
   },
   "file_extension": ".py",
   "mimetype": "text/x-python",
   "name": "python",
   "nbconvert_exporter": "python",
   "pygments_lexer": "ipython3",
   "version": "3.6.6"
  }
 },
 "nbformat": 4,
 "nbformat_minor": 2
}
